{
 "cells": [
  {
   "cell_type": "code",
   "execution_count": 69,
   "id": "dfb8509d",
   "metadata": {},
   "outputs": [],
   "source": [
    "import geopandas as gpd\n",
    "import random\n",
    "from shapely.geometry import Point, Polygon\n",
    "import numpy as np\n",
    "import scipy.stats as st\n",
    "from scipy.stats import t\n",
    "from scipy.stats import ttest_ind"
   ]
  },
  {
   "cell_type": "code",
   "execution_count": 5,
   "id": "e4434f8a",
   "metadata": {},
   "outputs": [
    {
     "name": "stdout",
     "output_type": "stream",
     "text": [
      "The estimated land area of China is: 8217456.5907 square kilometers.\n"
     ]
    }
   ],
   "source": [
    "# Load shapefile for China \n",
    "china_shapefile = gpd.read_file(\"gadm41_CHN_3.shp\").to_crs(\"EPSG:3857\")\n",
    "\n",
    "# Convert the shapefile into polygons\n",
    "china_polygons = china_shapefile['geometry']\n",
    "\n",
    "# Define the total area of the country\n",
    "total_area = china_polygons.area.sum() / 10**6 # Convert to square kilometers\n",
    "\n",
    "# Set the number of simulations to run\n",
    "num_simulations = 100\n",
    "\n",
    "# Loop through each simulation\n",
    "count = 0\n",
    "for i in range(num_simulations):\n",
    "    # Generate a random longitude and latitude within the bounds of the country\n",
    "    random_point = Point(random.uniform(china_shapefile.total_bounds[0], china_shapefile.total_bounds[2]),\n",
    "                         random.uniform(china_shapefile.total_bounds[1], china_shapefile.total_bounds[3]))\n",
    "\n",
    "    # Check if the point is within any of the polygons of the country\n",
    "    for polygon in china_polygons:\n",
    "        if polygon.intersects(random_point):\n",
    "            count += 1\n",
    "            break\n",
    "\n",
    "# Calculate the estimated total land area of China\n",
    "estimated_total_area = (count / num_simulations) * total_area\n",
    "print(\"The estimated land area of China is: {:.4f} square kilometers.\".format(estimated_total_area))\n"
   ]
  },
  {
   "cell_type": "code",
   "execution_count": 41,
   "id": "e7c8ee9d",
   "metadata": {},
   "outputs": [
    {
     "name": "stdout",
     "output_type": "stream",
     "text": [
      "The 95% confidence interval for the estimated land area of China is: [8217456.5028, 8217456.6330] square kilometers.\n"
     ]
    }
   ],
   "source": [
    "#calculating the CONFIDENCE INTERVAL for the estimated area\n",
    "\n",
    "# Estimated land area for China\n",
    "estimated_total_area = 8217456.5907 \n",
    "\n",
    "# Generate 1000 random samples from the estimated land area\n",
    "num_samples = 1000\n",
    "samples = np.random.normal(estimated_total_area, size=num_samples)\n",
    "\n",
    "# Compute the mean and standard error of the samples\n",
    "mean = np.mean(samples)\n",
    "stderr = st.sem(samples)\n",
    "\n",
    "# Compute the 95% confidence interval using the t-distribution with the upper and lower bounds\n",
    "lower_bound, upper_bound = t.interval(0.95, len(samples)-1, loc=mean, scale=stderr)\n",
    "\n",
    "#print confidence interval\n",
    "print(\"The 95% confidence interval for the estimated land area of China is: [{:.4f}, {:.4f}] square kilometers.\".format(lower_bound, upper_bound))"
   ]
  },
  {
   "cell_type": "code",
   "execution_count": null,
   "id": "fdb336b4",
   "metadata": {},
   "outputs": [],
   "source": []
  },
  {
   "cell_type": "code",
   "execution_count": 6,
   "id": "fc176f9e",
   "metadata": {},
   "outputs": [
    {
     "name": "stdout",
     "output_type": "stream",
     "text": [
      "The estimated land area of Canada is: 18901666.6912 square kilometers.\n"
     ]
    }
   ],
   "source": [
    "# Load shapefile for CANADA \n",
    "canada_shapefile = gpd.read_file(\"gadm41_CAN_3.shp\").to_crs(\"EPSG:3857\")\n",
    "\n",
    "# Convert the shapefile into polygons\n",
    "canada_polygons = canada_shapefile['geometry']\n",
    "\n",
    "# Define the total area of the country\n",
    "total_area = canada_polygons.area.sum() / 10**6 # Convert to square kilometers\n",
    "\n",
    "# Set the number of simulations to run\n",
    "num_simulations = 100\n",
    "\n",
    "# Loop through each simulation\n",
    "count = 0\n",
    "for i in range(num_simulations):\n",
    "    # Generate a random longitude and latitude within the bounds of the country\n",
    "    random_point = Point(random.uniform(canada_shapefile.total_bounds[0], canada_shapefile.total_bounds[2]),\n",
    "                         random.uniform(canada_shapefile.total_bounds[1], canada_shapefile.total_bounds[3]))\n",
    "\n",
    "    # Check if the point is within any of the polygons of the country\n",
    "    for polygon in canada_polygons:\n",
    "        if polygon.intersects(random_point):\n",
    "            count += 1\n",
    "            break\n",
    "\n",
    "# Calculate the estimated total land area of Canada\n",
    "estimated_total_area = (count / num_simulations) * total_area\n",
    "print(\"The estimated land area of Canada is: {:.4f} square kilometers.\".format(estimated_total_area))\n"
   ]
  },
  {
   "cell_type": "code",
   "execution_count": 42,
   "id": "0ebd2066",
   "metadata": {},
   "outputs": [
    {
     "name": "stdout",
     "output_type": "stream",
     "text": [
      "The 95% confidence interval for the estimated land area of Canada is: [18901666.6403, 18901666.7649] square kilometers.\n"
     ]
    }
   ],
   "source": [
    "#calculating the CONFIDENCE INTERVAL for the estimated area\n",
    "estimated_total_area = 18901666.6912\n",
    "\n",
    "# Generate 1000 random samples from the estimated land area\n",
    "num_samples = 1000\n",
    "samples = np.random.normal(estimated_total_area, size=num_samples)\n",
    "\n",
    "# Compute the mean and standard error of the samples\n",
    "mean = np.mean(samples)\n",
    "stderr = st.sem(samples)\n",
    "\n",
    "# Compute the 95% confidence interval using the t-distribution with the upper and lower bounds\n",
    "lower_bound, upper_bound = t.interval(0.95, len(samples)-1, loc=mean, scale=stderr)\n",
    "\n",
    "#print confidence interval\n",
    "print(\"The 95% confidence interval for the estimated land area of Canada is: [{:.4f}, {:.4f}] square kilometers.\".format(lower_bound, upper_bound))"
   ]
  },
  {
   "cell_type": "code",
   "execution_count": null,
   "id": "c62d3c40",
   "metadata": {},
   "outputs": [],
   "source": []
  },
  {
   "cell_type": "code",
   "execution_count": 51,
   "id": "25ee4ed1",
   "metadata": {},
   "outputs": [
    {
     "name": "stdout",
     "output_type": "stream",
     "text": [
      "The t-statistic is: 239942045.6380.\n",
      "The p-value is: 0.0000.\n",
      "The null hypothesis can be rejected.\n"
     ]
    }
   ],
   "source": [
    "#HYPOTHESIS TEST OF CHINA AND CANADA USING BOOTSTRAP\n",
    "\n",
    "# Estimated land area for Canada and China\n",
    "estimated_total_area_canada = 18901666.6912\n",
    "estimated_total_area_china = 8217456.5907\n",
    "\n",
    "# Generate 1000 random samples for each country\n",
    "num_samples = 1000\n",
    "samples_canada = np.random.normal(estimated_total_area_canada, size=num_samples)\n",
    "samples_china = np.random.normal(estimated_total_area_china, size=num_samples)\n",
    "\n",
    "# Compute the t-statistic and p-value\n",
    "t_stat, p_val = ttest_ind(samples_canada, samples_china)\n",
    "\n",
    "#print results\n",
    "print(\"The t-statistic is: {:.4f}.\".format(t_stat))\n",
    "print(\"The p-value is: {:.4f}.\".format(p_val))\n",
    "\n",
    "#print results USING IF STATEMENT\n",
    "if p_val < 0.05:\n",
    "    print(\"The null hypothesis can be rejected.\")\n",
    "else:\n",
    "    print(\"The null hypothesis cannot be rejected.\")"
   ]
  },
  {
   "cell_type": "code",
   "execution_count": null,
   "id": "f082f8b3",
   "metadata": {},
   "outputs": [],
   "source": []
  },
  {
   "cell_type": "code",
   "execution_count": 21,
   "id": "4c9c64e6",
   "metadata": {},
   "outputs": [
    {
     "name": "stdout",
     "output_type": "stream",
     "text": [
      "The estimated land area of Columbia is: 415419.7510 square kilometers.\n"
     ]
    }
   ],
   "source": [
    "# Load shapefile for Columbia \n",
    "columbia_shapefile = gpd.read_file(\"gadm41_COL_2.shp\").to_crs(\"EPSG:3857\")\n",
    "\n",
    "# Convert the shapefile into polygons\n",
    "columbia_polygons = columbia_shapefile['geometry']\n",
    "\n",
    "# Define the total area of the country\n",
    "total_area = columbia_polygons.area.sum() / 10**6 # Convert to square kilometers\n",
    "\n",
    "# Set the number of simulations to run\n",
    "num_simulations = 100\n",
    "\n",
    "# Loop through each simulation\n",
    "count = 0\n",
    "for i in range(num_simulations):\n",
    "    # Generate a random longitude and latitude within the bounds of the country\n",
    "    random_point = Point(random.uniform(columbia_shapefile.total_bounds[0], columbia_shapefile.total_bounds[2]),\n",
    "                         random.uniform(columbia_shapefile.total_bounds[1], columbia_shapefile.total_bounds[3]))\n",
    "\n",
    "    # Check if the point is within any of the polygons of the country\n",
    "    for polygon in columbia_polygons:\n",
    "        if polygon.intersects(random_point):\n",
    "            count += 1\n",
    "            break\n",
    "\n",
    "# Calculate the estimated total land area of Colombia\n",
    "estimated_total_area = (count / num_simulations) * total_area\n",
    "print(\"The estimated land area of Columbia is: {:.4f} square kilometers.\".format(estimated_total_area))\n"
   ]
  },
  {
   "cell_type": "code",
   "execution_count": 43,
   "id": "9d34c7a1",
   "metadata": {},
   "outputs": [
    {
     "name": "stdout",
     "output_type": "stream",
     "text": [
      "The 95% confidence interval for the estimated land area of Colombia is: [415419.7153, 415419.8418] square kilometers.\n"
     ]
    }
   ],
   "source": [
    "#calculating the CONFIDENCE INTERVAL for the estimated area\n",
    "estimated_total_area = 415419.7510\n",
    "\n",
    "# Generate 1000 random samples from the estimated land area\n",
    "num_samples = 1000\n",
    "samples = np.random.normal(estimated_total_area, size=num_samples)\n",
    "\n",
    "# Compute the mean and standard error of the samples\n",
    "mean = np.mean(samples)\n",
    "stderr = st.sem(samples)\n",
    "\n",
    "# Compute the 95% confidence interval using the t-distribution with the upper and lower bounds\n",
    "lower_bound, upper_bound = t.interval(0.95, len(samples)-1, loc=mean, scale=stderr)\n",
    "\n",
    "#print confidence interval\n",
    "print(\"The 95% confidence interval for the estimated land area of Colombia is: [{:.4f}, {:.4f}] square kilometers.\".format(lower_bound, upper_bound))"
   ]
  },
  {
   "cell_type": "code",
   "execution_count": null,
   "id": "09c23875",
   "metadata": {},
   "outputs": [],
   "source": []
  },
  {
   "cell_type": "code",
   "execution_count": 23,
   "id": "afbf4e19",
   "metadata": {},
   "outputs": [
    {
     "name": "stdout",
     "output_type": "stream",
     "text": [
      "The estimated land area of Egypt is: 990600.1459 square kilometers.\n"
     ]
    }
   ],
   "source": [
    "# Load shapefile for Egypt \n",
    "egypt_shapefile = gpd.read_file(\"gadm41_EGY_2.shp\").to_crs(\"EPSG:3857\")\n",
    "\n",
    "# Convert the shapefile into polygons\n",
    "egypt_polygons = egypt_shapefile['geometry']\n",
    "\n",
    "# Define the total area of the country\n",
    "total_area = egypt_polygons.area.sum() / 10**6 # Convert to square kilometers\n",
    "\n",
    "# Set the number of simulations to run\n",
    "num_simulations = 100\n",
    "\n",
    "# Loop through each simulation\n",
    "count = 0\n",
    "for i in range(num_simulations):\n",
    "    # Generate a random longitude and latitude within the bounds of the country\n",
    "    random_point = Point(random.uniform(egypt_shapefile.total_bounds[0], egypt_shapefile.total_bounds[2]),\n",
    "                         random.uniform(egypt_shapefile.total_bounds[1], egypt_shapefile.total_bounds[3]))\n",
    "\n",
    "    # Check if the point is within any of the polygons of the country\n",
    "    for polygon in egypt_polygons:\n",
    "        if polygon.intersects(random_point):\n",
    "            count += 1\n",
    "            break\n",
    "\n",
    "# Calculate the estimated total land area of Egypt\n",
    "estimated_total_area = (count / num_simulations) * total_area\n",
    "print(\"The estimated land area of Egypt is: {:.4f} square kilometers.\".format(estimated_total_area))\n"
   ]
  },
  {
   "cell_type": "code",
   "execution_count": 44,
   "id": "c3ac32a6",
   "metadata": {},
   "outputs": [
    {
     "name": "stdout",
     "output_type": "stream",
     "text": [
      "The 95% confidence interval for the estimated land area of Egypt is: [990600.0660, 990600.1900] square kilometers.\n"
     ]
    }
   ],
   "source": [
    "#calculating the CONFIDENCE INTERVAL for the estimated area\n",
    "estimated_total_area = 990600.1459\n",
    "\n",
    "# Generate 1000 random samples from the estimated land area\n",
    "num_samples = 1000\n",
    "samples = np.random.normal(estimated_total_area, size=num_samples)\n",
    "\n",
    "# Compute the mean and standard error of the samples\n",
    "mean = np.mean(samples)\n",
    "stderr = st.sem(samples)\n",
    "\n",
    "# Compute the 95% confidence interval using the t-distribution with the upper and lower bounds\n",
    "lower_bound, upper_bound = t.interval(0.95, len(samples)-1, loc=mean, scale=stderr)\n",
    "\n",
    "#print confidence interval\n",
    "print(\"The 95% confidence interval for the estimated land area of Egypt is: [{:.4f}, {:.4f}] square kilometers.\".format(lower_bound, upper_bound))"
   ]
  },
  {
   "cell_type": "code",
   "execution_count": null,
   "id": "5da6bf2e",
   "metadata": {},
   "outputs": [],
   "source": []
  },
  {
   "cell_type": "code",
   "execution_count": 55,
   "id": "7fd81686",
   "metadata": {},
   "outputs": [
    {
     "name": "stdout",
     "output_type": "stream",
     "text": [
      "The t-statistic is: -12649297.2593.\n",
      "The p-value is: 0.0000.\n",
      "The null hypothesis can be rejected.\n"
     ]
    }
   ],
   "source": [
    "#HYPOTHESIS TEST OF CHINA AND CANADA USING BOOTSTRAP\n",
    "\n",
    "# Estimated land area for Canada and China\n",
    "estimated_total_area_colombia = 415419.7510\n",
    "estimated_total_area_egypt = 990600.1459\n",
    "\n",
    "# Generate 1000 random samples for each country\n",
    "num_samples = 1000\n",
    "samples_colombia = np.random.normal(estimated_total_area_colombia, size=num_samples)\n",
    "samples_egypt = np.random.normal(estimated_total_area_egypt, size=num_samples)\n",
    "\n",
    "# Compute the t-statistic and p-value\n",
    "t_stat, p_val = ttest_ind(samples_colombia, samples_egypt)\n",
    "\n",
    "#print results\n",
    "print(\"The t-statistic is: {:.4f}.\".format(t_stat))\n",
    "print(\"The p-value is: {:.4f}.\".format(p_val))\n",
    "\n",
    "#print results USING IF STATEMENT\n",
    "if p_val < 0.05:\n",
    "    print(\"The null hypothesis can be rejected.\")\n",
    "else:\n",
    "    print(\"The null hypothesis cannot be rejected.\")"
   ]
  },
  {
   "cell_type": "code",
   "execution_count": null,
   "id": "c90ab952",
   "metadata": {},
   "outputs": [],
   "source": []
  },
  {
   "cell_type": "code",
   "execution_count": 25,
   "id": "7b17c676",
   "metadata": {},
   "outputs": [
    {
     "name": "stdout",
     "output_type": "stream",
     "text": [
      "The estimated land area of Cuba is: 51520.9337 square kilometers.\n"
     ]
    }
   ],
   "source": [
    "# Load shapefile for Cuba \n",
    "cuba_shapefile = gpd.read_file(\"gadm41_CUB_2.shp\").to_crs(\"EPSG:3857\")\n",
    "\n",
    "# Convert the shapefile into polygons\n",
    "cuba_polygons = cuba_shapefile['geometry']\n",
    "\n",
    "# Define the total area of the country\n",
    "total_area = cuba_polygons.area.sum() / 10**6 # Convert to square kilometers\n",
    "\n",
    "# Set the number of simulations to run\n",
    "num_simulations = 10\n",
    "\n",
    "# Loop through each simulation\n",
    "count = 0\n",
    "for i in range(num_simulations):\n",
    "    # Generate a random longitude and latitude within the bounds of the country\n",
    "    random_point = Point(random.uniform(cuba_shapefile.total_bounds[0], cuba_shapefile.total_bounds[2]),\n",
    "                         random.uniform(cuba_shapefile.total_bounds[1], cuba_shapefile.total_bounds[3]))\n",
    "\n",
    "    # Check if the point is within any of the polygons of the country\n",
    "    for polygon in cuba_polygons:\n",
    "        if polygon.intersects(random_point):\n",
    "            count += 1\n",
    "            break\n",
    "\n",
    "# Calculate the estimated total land area of Cuba\n",
    "estimated_total_area = (count / num_simulations) * total_area\n",
    "print(\"The estimated land area of Cuba is: {:.4f} square kilometers.\".format(estimated_total_area))\n"
   ]
  },
  {
   "cell_type": "code",
   "execution_count": 45,
   "id": "8b8a5af0",
   "metadata": {},
   "outputs": [
    {
     "name": "stdout",
     "output_type": "stream",
     "text": [
      "The 95% confidence interval for the estimated land area of Cuba is: [51520.8478, 51520.9740] square kilometers.\n"
     ]
    }
   ],
   "source": [
    "#calculating the CONFIDENCE INTERVAL for the estimated area\n",
    "estimated_total_area = 51520.9337\n",
    "\n",
    "# Generate 1000 random samples from the estimated land area\n",
    "num_samples = 1000\n",
    "samples = np.random.normal(estimated_total_area, size=num_samples)\n",
    "\n",
    "# Compute the mean and standard error of the samples\n",
    "mean = np.mean(samples)\n",
    "stderr = st.sem(samples)\n",
    "\n",
    "# Compute the 95% confidence interval using the t-distribution with the upper and lower bounds\n",
    "lower_bound, upper_bound = t.interval(0.95, len(samples)-1, loc=mean, scale=stderr)\n",
    "\n",
    "#print confidence interval\n",
    "print(\"The 95% confidence interval for the estimated land area of Cuba is: [{:.4f}, {:.4f}] square kilometers.\".format(lower_bound, upper_bound))"
   ]
  },
  {
   "cell_type": "code",
   "execution_count": null,
   "id": "ab5e9355",
   "metadata": {},
   "outputs": [],
   "source": []
  },
  {
   "cell_type": "code",
   "execution_count": 32,
   "id": "bce93686",
   "metadata": {},
   "outputs": [
    {
     "name": "stdout",
     "output_type": "stream",
     "text": [
      "The estimated land area of Iceland is: 113931.3687 square kilometers.\n"
     ]
    }
   ],
   "source": [
    "# Load shapefile for Iceland with higher resolution\n",
    "iceland_shapefile = gpd.read_file(\"gadm41_ISL_0.shp\").to_crs(\"EPSG:3857\")\n",
    "\n",
    "# Convert the shapefile into polygons\n",
    "iceland_polygons = iceland_shapefile['geometry']\n",
    "\n",
    "# Define the total area of the country\n",
    "total_area = iceland_polygons.area.sum() / 10**6 # Convert to square kilometers\n",
    "\n",
    "# Set the number of simulations to run\n",
    "num_simulations = 10\n",
    "\n",
    "# Loop through each simulation\n",
    "count = 0\n",
    "for i in range(num_simulations):\n",
    "    # Generate a random longitude and latitude within the bounds of the country\n",
    "    random_point = Point(random.uniform(iceland_shapefile.total_bounds[0], iceland_shapefile.total_bounds[2]),\n",
    "                         random.uniform(iceland_shapefile.total_bounds[1], iceland_shapefile.total_bounds[3]))\n",
    "\n",
    "    # Check if the point is within any of the polygons of the country\n",
    "    for polygon in iceland_polygons:\n",
    "        if polygon.intersects(random_point):\n",
    "            count += 1\n",
    "            break\n",
    "\n",
    "# Calculate the estimated total land area of Iceland\n",
    "estimated_total_area = (count / num_simulations) * total_area\n",
    "print(\"The estimated land area of Iceland is: {:.4f} square kilometers.\".format(estimated_total_area))\n"
   ]
  },
  {
   "cell_type": "code",
   "execution_count": 46,
   "id": "a6e7e176",
   "metadata": {},
   "outputs": [
    {
     "name": "stdout",
     "output_type": "stream",
     "text": [
      "The 95% confidence interval for the estimated land area of Iceland is: [113931.3092, 113931.4327] square kilometers.\n"
     ]
    }
   ],
   "source": [
    "#calculating the CONFIDENCE INTERVAL for the estimated area\n",
    "estimated_total_area = 113931.3687\n",
    "\n",
    "# Generate 1000 random samples from the estimated land area\n",
    "num_samples = 1000\n",
    "samples = np.random.normal(estimated_total_area, size=num_samples)\n",
    "\n",
    "# Compute the mean and standard error of the samples\n",
    "mean = np.mean(samples)\n",
    "stderr = st.sem(samples)\n",
    "\n",
    "# Compute the 95% confidence interval using the t-distribution with the upper and lower bounds\n",
    "lower_bound, upper_bound = t.interval(0.95, len(samples)-1, loc=mean, scale=stderr)\n",
    "\n",
    "#print confidence interval\n",
    "print(\"The 95% confidence interval for the estimated land area of Iceland is: [{:.4f}, {:.4f}] square kilometers.\".format(lower_bound, upper_bound))"
   ]
  },
  {
   "cell_type": "code",
   "execution_count": null,
   "id": "deb80adf",
   "metadata": {},
   "outputs": [],
   "source": []
  },
  {
   "cell_type": "code",
   "execution_count": 56,
   "id": "f08f90f9",
   "metadata": {},
   "outputs": [
    {
     "name": "stdout",
     "output_type": "stream",
     "text": [
      "The t-statistic is: -1348894.3255.\n",
      "The p-value is: 0.0000.\n",
      "The null hypothesis can be rejected.\n"
     ]
    }
   ],
   "source": [
    "#HYPOTHESIS TEST OF CUBA AND ICELAND USING BOOTSTRAP\n",
    "\n",
    "# Estimated land area for Cuba and Iceland\n",
    "estimated_total_area_cuba = 51520.9337\n",
    "estimated_total_area_iceland = 113931.3687\n",
    "\n",
    "# Generate 1000 random samples for each country\n",
    "num_samples = 1000\n",
    "samples_cuba = np.random.normal(estimated_total_area_cuba, size=num_samples)\n",
    "samples_iceland = np.random.normal(estimated_total_area_iceland, size=num_samples)\n",
    "\n",
    "# Compute the t-statistic and p-value\n",
    "t_stat, p_val = ttest_ind(samples_cuba, samples_iceland)\n",
    "\n",
    "#print results\n",
    "print(\"The t-statistic is: {:.4f}.\".format(t_stat))\n",
    "print(\"The p-value is: {:.4f}.\".format(p_val))\n",
    "\n",
    "#print results USING IF STATEMENT\n",
    "if p_val < 0.05:\n",
    "    print(\"The null hypothesis can be rejected.\")\n",
    "else:\n",
    "    print(\"The null hypothesis cannot be rejected.\")"
   ]
  },
  {
   "cell_type": "code",
   "execution_count": null,
   "id": "22083979",
   "metadata": {},
   "outputs": [],
   "source": []
  },
  {
   "cell_type": "code",
   "execution_count": null,
   "id": "e0fd3363",
   "metadata": {},
   "outputs": [],
   "source": []
  },
  {
   "cell_type": "code",
   "execution_count": null,
   "id": "6de3bfc1",
   "metadata": {},
   "outputs": [],
   "source": [
    "#OTHER SMALL COUNTRIES EVALUATION"
   ]
  },
  {
   "cell_type": "code",
   "execution_count": 63,
   "id": "c2c1aa82",
   "metadata": {},
   "outputs": [
    {
     "name": "stdout",
     "output_type": "stream",
     "text": [
      "The estimated land area of lebanon is: 8944.0775 square kilometers.\n"
     ]
    }
   ],
   "source": [
    "# Load shapefile for Cuba with higher resolution\n",
    "lebanon_shapefile = gpd.read_file(\"gadm41_LBN_1.shp\").to_crs(\"EPSG:3857\")\n",
    "\n",
    "# Convert the shapefile into polygons\n",
    "lebanon_polygons = lebanon_shapefile['geometry']\n",
    "\n",
    "# Define the total area of the country\n",
    "total_area = lebanon_polygons.area.sum() / 10**6 # Convert to square kilometers\n",
    "\n",
    "# Set the number of simulations to run\n",
    "num_simulations = 5\n",
    "\n",
    "# Loop through each simulation\n",
    "count = 0\n",
    "for i in range(num_simulations):\n",
    "    # Generate a random longitude and latitude within the bounds of the country\n",
    "    random_point = Point(random.uniform(lebanon_shapefile.total_bounds[0], lebanon_shapefile.total_bounds[2]),\n",
    "                         random.uniform(lebanon_shapefile.total_bounds[1], lebanon_shapefile.total_bounds[3]))\n",
    "\n",
    "    # Check if the point is within any of the polygons of the country\n",
    "    for polygon in lebanon_polygons:\n",
    "        if polygon.intersects(random_point):\n",
    "            count += 1\n",
    "            break\n",
    "\n",
    "# Calculate the estimated total land area of lebanon\n",
    "estimated_total_area = (count / num_simulations) * total_area\n",
    "print(\"The estimated land area of lebanon is: {:.4f} square kilometers.\".format(estimated_total_area))\n"
   ]
  },
  {
   "cell_type": "code",
   "execution_count": 67,
   "id": "792c354c",
   "metadata": {},
   "outputs": [
    {
     "name": "stdout",
     "output_type": "stream",
     "text": [
      "The estimated land area of Jamaica is: 9187.0432 square kilometers.\n"
     ]
    }
   ],
   "source": [
    "# Load shapefile for Jamaica\n",
    "jamaica_shapefile = gpd.read_file(\"gadm41_JAM_1.shp\").to_crs(\"EPSG:3857\")\n",
    "\n",
    "# Convert the shapefile into polygons\n",
    "jamaica_polygons = jamaica_shapefile['geometry']\n",
    "\n",
    "# Define the total area of the country\n",
    "total_area = jamaica_polygons.area.sum() / 10**6 # Convert to square kilometers\n",
    "\n",
    "# Set the number of simulations to run\n",
    "num_simulations = 4\n",
    "\n",
    "# Loop through each simulation\n",
    "count = 0\n",
    "for i in range(num_simulations):\n",
    "    # Generate a random longitude and latitude within the bounds of the country\n",
    "    random_point = Point(random.uniform(jamaica_shapefile.total_bounds[0], jamaica_shapefile.total_bounds[2]),\n",
    "                         random.uniform(jamaica_shapefile.total_bounds[1], jamaica_shapefile.total_bounds[3]))\n",
    "\n",
    "    # Check if the point is within any of the polygons of the country\n",
    "    for polygon in jamaica_polygons:\n",
    "        if polygon.intersects(random_point):\n",
    "            count += 1\n",
    "            break\n",
    "\n",
    "# Calculate the estimated total land area of jamaica\n",
    "estimated_total_area = (count / num_simulations) * total_area\n",
    "print(\"The estimated land area of Jamaica is: {:.4f} square kilometers.\".format(estimated_total_area))\n"
   ]
  },
  {
   "cell_type": "code",
   "execution_count": 68,
   "id": "4ccbe13f",
   "metadata": {},
   "outputs": [
    {
     "name": "stdout",
     "output_type": "stream",
     "text": [
      "The estimated land area of Seychelles is: 502.2752 square kilometers.\n"
     ]
    }
   ],
   "source": [
    "# Load shapefile for Seychelles\n",
    "Seychelles_shapefile = gpd.read_file(\"gadm41_syc_0.shp\").to_crs(\"EPSG:3857\")\n",
    "\n",
    "# Convert the shapefile into polygons\n",
    "Seychelles_polygons = Seychelles_shapefile['geometry']\n",
    "\n",
    "# Define the total area of the country\n",
    "total_area = Seychelles_polygons.area.sum() / 10**6 # Convert to square kilometers\n",
    "\n",
    "# Calculate the estimated total land area of Seychelles\n",
    "print(\"The estimated land area of Seychelles is: {:.4f} square kilometers.\".format(total_area))\n"
   ]
  },
  {
   "cell_type": "code",
   "execution_count": null,
   "id": "82db4491",
   "metadata": {},
   "outputs": [],
   "source": []
  },
  {
   "cell_type": "code",
   "execution_count": null,
   "id": "568ebd14",
   "metadata": {},
   "outputs": [],
   "source": []
  },
  {
   "cell_type": "raw",
   "id": "4f7cc37e",
   "metadata": {},
   "source": [
    "FUNCTION TO CALCULATE THE AREA OF ANY COUNTRY USING THE GADM ISO NAMING CODES"
   ]
  },
  {
   "cell_type": "code",
   "execution_count": 1,
   "id": "e4b2a57e",
   "metadata": {},
   "outputs": [
    {
     "name": "stdout",
     "output_type": "stream",
     "text": [
      "Enter the name of a country: SYC\n",
      "The estimated land area of SYC is 502.28 km^2\n"
     ]
    },
    {
     "data": {
      "image/png": "[encoded data removed]",
      "text/plain": [
       "<Figure size 432x288 with 1 Axes>"
      ]
     },
     "metadata": {
      "needs_background": "light"
     },
     "output_type": "display_data"
    }
   ],
   "source": [
    "import os\n",
    "import random\n",
    "import zipfile\n",
    "from math import pi, sin, cos, sqrt\n",
    "from urllib.request import urlretrieve\n",
    "\n",
    "import geopandas as gpd\n",
    "import matplotlib.pyplot as plt\n",
    "\n",
    "\n",
    "# Define constants\n",
    "MIN_SAMPLE_POINTS = 10\n",
    "MAX_SAMPLE_POINTS = 100\n",
    "THRESHOLD_AREA = 1e5  # km^2\n",
    "\n",
    "GADM_URL = 'https://geodata.ucdavis.edu/gadm/gadm4.1/shp/gadm41_{}_shp.zip'\n",
    "\n",
    "\n",
    "def get_country_shapefile(country_name):\n",
    "    \"\"\"Download and extract the shapefile for a given country.\"\"\"\n",
    "    country_code = country_name.upper()[:3]  # ISO 3166-1 alpha-3 code\n",
    "    url = GADM_URL.format(country_code)\n",
    "    filename = os.path.basename(url)\n",
    "    foldername = os.path.splitext(filename)[0]\n",
    "    if not os.path.exists(foldername):\n",
    "        print(f'Downloading {filename}...')\n",
    "        urlretrieve(url, filename)\n",
    "        print(f'Extracting {filename}...')\n",
    "        with zipfile.ZipFile(filename, 'r') as zip_ref:\n",
    "            zip_ref.extractall(foldername)\n",
    "    return foldername\n",
    "\n",
    "\n",
    "def get_land_area(polygons):\n",
    "    \"\"\"Calculate the land area of a GeoDataFrame of polygons.\"\"\"\n",
    "    projected = polygons.to_crs(epsg=3857)\n",
    "    return projected.geometry.area.sum() / 1e6  # km^2\n",
    "\n",
    "\n",
    "\n",
    "def generate_sample_points(polygons, num_points):\n",
    "    \"\"\"Generate random sample points within the bounds of a GeoDataFrame of polygons.\"\"\"\n",
    "    min_lon, min_lat, max_lon, max_lat = polygons.total_bounds\n",
    "    points = []\n",
    "    while len(points) < num_points:\n",
    "        lon, lat = random.uniform(min_lon, max_lon), random.uniform(min_lat, max_lat)\n",
    "        point = (lon, lat)\n",
    "        if polygons.contains(gpd.points_from_xy([lon], [lat])).any():\n",
    "            points.append(point)\n",
    "    return points\n",
    "\n",
    "\n",
    "def estimate_land_area(polygons):\n",
    "    \"\"\"Estimate the land area of a GeoDataFrame of polygons using the Monte Carlo method.\"\"\"\n",
    "    land_area = get_land_area(polygons)\n",
    "    if land_area < THRESHOLD_AREA:\n",
    "        return land_area  # Direct calculation for small areas\n",
    "    elif land_area < 10 * THRESHOLD_AREA:\n",
    "        num_points = MIN_SAMPLE_POINTS\n",
    "    else:\n",
    "        num_points = MAX_SAMPLE_POINTS\n",
    "    points = generate_sample_points(polygons, num_points)\n",
    "    land_points = sum(1 for lon, lat in points if polygons.contains(gpd.points_from_xy([lon], [lat])).any())\n",
    "    area_factor = land_points / num_points\n",
    "    return land_area / area_factor\n",
    "\n",
    "\n",
    "def main():\n",
    "    # Get country name input from user\n",
    "    country_name = input('Enter the name of a country: ')\n",
    "\n",
    "    # Download and extract shapefile for the country\n",
    "    foldername = get_country_shapefile(country_name)\n",
    "\n",
    "    # Read polygons from shapefile and calculate land area\n",
    "    polygons = gpd.read_file(foldername)\n",
    "    land_area = estimate_land_area(polygons)\n",
    "\n",
    "    # Display results\n",
    "    print(f'The estimated land area of {country_name} is {land_area:.2f} km^2')\n",
    "    ax = polygons.plot(alpha=0.5, edgecolor='black')\n",
    "    ax.set_title(country_name)\n",
    "    plt.show()\n",
    "\n",
    "\n",
    "if __name__ == '__main__':\n",
    "    main()\n"
   ]
  },
  {
   "cell_type": "code",
   "execution_count": 2,
   "id": "d4527503",
   "metadata": {},
   "outputs": [
    {
     "name": "stdout",
     "output_type": "stream",
     "text": [
      "Enter the name of a country: JAM\n",
      "The estimated land area of JAM is 12249.39 km^2\n"
     ]
    },
    {
     "data": {
      "image/png": "[encoded data removed]",
      "text/plain": [
       "<Figure size 432x288 with 1 Axes>"
      ]
     },
     "metadata": {
      "needs_background": "light"
     },
     "output_type": "display_data"
    }
   ],
   "source": [
    "import os\n",
    "import random\n",
    "import zipfile\n",
    "from math import pi, sin, cos, sqrt\n",
    "from urllib.request import urlretrieve\n",
    "\n",
    "import geopandas as gpd\n",
    "import matplotlib.pyplot as plt\n",
    "\n",
    "\n",
    "# Define constants\n",
    "MIN_SAMPLE_POINTS = 10\n",
    "MAX_SAMPLE_POINTS = 100\n",
    "THRESHOLD_AREA = 1e5  # km^2\n",
    "\n",
    "GADM_URL = 'https://geodata.ucdavis.edu/gadm/gadm4.1/shp/gadm41_{}_shp.zip'\n",
    "\n",
    "\n",
    "def get_country_shapefile(country_name):\n",
    "    \"\"\"Download and extract the shapefile for a given country.\"\"\"\n",
    "    country_code = country_name.upper()[:3]  # ISO 3166-1 alpha-3 code\n",
    "    url = GADM_URL.format(country_code)\n",
    "    filename = os.path.basename(url)\n",
    "    foldername = os.path.splitext(filename)[0]\n",
    "    if not os.path.exists(foldername):\n",
    "        print(f'Downloading {filename}...')\n",
    "        urlretrieve(url, filename)\n",
    "        print(f'Extracting {filename}...')\n",
    "        with zipfile.ZipFile(filename, 'r') as zip_ref:\n",
    "            zip_ref.extractall(foldername)\n",
    "    return foldername\n",
    "\n",
    "\n",
    "def get_land_area(polygons):\n",
    "    \"\"\"Calculate the land area of a GeoDataFrame of polygons.\"\"\"\n",
    "    projected = polygons.to_crs(epsg=3857)\n",
    "    return projected.geometry.area.sum() / 1e6  # km^2\n",
    "\n",
    "\n",
    "\n",
    "def generate_sample_points(polygons, num_points):\n",
    "    \"\"\"Generate random sample points within the bounds of a GeoDataFrame of polygons.\"\"\"\n",
    "    min_lon, min_lat, max_lon, max_lat = polygons.total_bounds\n",
    "    points = []\n",
    "    while len(points) < num_points:\n",
    "        lon, lat = random.uniform(min_lon, max_lon), random.uniform(min_lat, max_lat)\n",
    "        point = (lon, lat)\n",
    "        if polygons.contains(gpd.points_from_xy([lon], [lat])).any():\n",
    "            points.append(point)\n",
    "    return points\n",
    "\n",
    "\n",
    "def estimate_land_area(polygons):\n",
    "    \"\"\"Estimate the land area of a GeoDataFrame of polygons using the Monte Carlo method.\"\"\"\n",
    "    land_area = get_land_area(polygons)\n",
    "    if land_area < THRESHOLD_AREA:\n",
    "        return land_area  # Direct calculation for small areas\n",
    "    elif land_area < 10 * THRESHOLD_AREA:\n",
    "        num_points = MIN_SAMPLE_POINTS\n",
    "    else:\n",
    "        num_points = MAX_SAMPLE_POINTS\n",
    "    points = generate_sample_points(polygons, num_points)\n",
    "    land_points = sum(1 for lon, lat in points if polygons.contains(gpd.points_from_xy([lon], [lat])).any())\n",
    "    area_factor = land_points / num_points\n",
    "    return land_area / area_factor\n",
    "\n",
    "\n",
    "def main():\n",
    "    # Get country name input from user\n",
    "    country_name = input('Enter the name of a country: ')\n",
    "\n",
    "    # Download and extract shapefile for the country\n",
    "    foldername = get_country_shapefile(country_name)\n",
    "\n",
    "    # Read polygons from shapefile and calculate land area\n",
    "    polygons = gpd.read_file(foldername)\n",
    "    land_area = estimate_land_area(polygons)\n",
    "\n",
    "    # Display results\n",
    "    print(f'The estimated land area of {country_name} is {land_area:.2f} km^2')\n",
    "    ax = polygons.plot(alpha=0.5, edgecolor='black')\n",
    "    ax.set_title(country_name)\n",
    "    plt.show()\n",
    "\n",
    "\n",
    "if __name__ == '__main__':\n",
    "    main()\n"
   ]
  },
  {
   "cell_type": "code",
   "execution_count": 3,
   "id": "29c9a901",
   "metadata": {},
   "outputs": [
    {
     "name": "stdout",
     "output_type": "stream",
     "text": [
      "Enter the name of a country: LBN\n",
      "The estimated land area of LBN is 14906.80 km^2\n"
     ]
    },
    {
     "data": {
      "image/png": "[encoded data removed]",
      "text/plain": [
       "<Figure size 432x288 with 1 Axes>"
      ]
     },
     "metadata": {
      "needs_background": "light"
     },
     "output_type": "display_data"
    }
   ],
   "source": [
    "import os\n",
    "import random\n",
    "import zipfile\n",
    "from math import pi, sin, cos, sqrt\n",
    "from urllib.request import urlretrieve\n",
    "\n",
    "import geopandas as gpd\n",
    "import matplotlib.pyplot as plt\n",
    "\n",
    "\n",
    "# Define constants\n",
    "MIN_SAMPLE_POINTS = 10\n",
    "MAX_SAMPLE_POINTS = 100\n",
    "THRESHOLD_AREA = 1e5  # km^2\n",
    "\n",
    "GADM_URL = 'https://geodata.ucdavis.edu/gadm/gadm4.1/shp/gadm41_{}_shp.zip'\n",
    "\n",
    "\n",
    "def get_country_shapefile(country_name):\n",
    "    \"\"\"Download and extract the shapefile for a given country.\"\"\"\n",
    "    country_code = country_name.upper()[:3]  # ISO 3166-1 alpha-3 code\n",
    "    url = GADM_URL.format(country_code)\n",
    "    filename = os.path.basename(url)\n",
    "    foldername = os.path.splitext(filename)[0]\n",
    "    if not os.path.exists(foldername):\n",
    "        print(f'Downloading {filename}...')\n",
    "        urlretrieve(url, filename)\n",
    "        print(f'Extracting {filename}...')\n",
    "        with zipfile.ZipFile(filename, 'r') as zip_ref:\n",
    "            zip_ref.extractall(foldername)\n",
    "    return foldername\n",
    "\n",
    "\n",
    "def get_land_area(polygons):\n",
    "    \"\"\"Calculate the land area of a GeoDataFrame of polygons.\"\"\"\n",
    "    projected = polygons.to_crs(epsg=3857)\n",
    "    return projected.geometry.area.sum() / 1e6  # km^2\n",
    "\n",
    "\n",
    "\n",
    "def generate_sample_points(polygons, num_points):\n",
    "    \"\"\"Generate random sample points within the bounds of a GeoDataFrame of polygons.\"\"\"\n",
    "    min_lon, min_lat, max_lon, max_lat = polygons.total_bounds\n",
    "    points = []\n",
    "    while len(points) < num_points:\n",
    "        lon, lat = random.uniform(min_lon, max_lon), random.uniform(min_lat, max_lat)\n",
    "        point = (lon, lat)\n",
    "        if polygons.contains(gpd.points_from_xy([lon], [lat])).any():\n",
    "            points.append(point)\n",
    "    return points\n",
    "\n",
    "\n",
    "def estimate_land_area(polygons):\n",
    "    \"\"\"Estimate the land area of a GeoDataFrame of polygons using the Monte Carlo method.\"\"\"\n",
    "    land_area = get_land_area(polygons)\n",
    "    if land_area < THRESHOLD_AREA:\n",
    "        return land_area  # Direct calculation for small areas\n",
    "    elif land_area < 10 * THRESHOLD_AREA:\n",
    "        num_points = MIN_SAMPLE_POINTS\n",
    "    else:\n",
    "        num_points = MAX_SAMPLE_POINTS\n",
    "    points = generate_sample_points(polygons, num_points)\n",
    "    land_points = sum(1 for lon, lat in points if polygons.contains(gpd.points_from_xy([lon], [lat])).any())\n",
    "    area_factor = land_points / num_points\n",
    "    return land_area / area_factor\n",
    "\n",
    "\n",
    "def main():\n",
    "    # Get country name input from user\n",
    "    country_name = input('Enter the name of a country: ')\n",
    "\n",
    "    # Download and extract shapefile for the country\n",
    "    foldername = get_country_shapefile(country_name)\n",
    "\n",
    "    # Read polygons from shapefile and calculate land area\n",
    "    polygons = gpd.read_file(foldername)\n",
    "    land_area = estimate_land_area(polygons)\n",
    "\n",
    "    # Display results\n",
    "    print(f'The estimated land area of {country_name} is {land_area:.2f} km^2')\n",
    "    ax = polygons.plot(alpha=0.5, edgecolor='black')\n",
    "    ax.set_title(country_name)\n",
    "    plt.show()\n",
    "\n",
    "\n",
    "if __name__ == '__main__':\n",
    "    main()\n"
   ]
  },
  {
   "cell_type": "code",
   "execution_count": null,
   "id": "49351a57",
   "metadata": {},
   "outputs": [],
   "source": []
  }
 ],
 "metadata": {
  "kernelspec": {
   "display_name": "Python 3 (ipykernel)",
   "language": "python",
   "name": "python3"
  },
  "language_info": {
   "codemirror_mode": {
    "name": "ipython",
    "version": 3
   },
   "file_extension": ".py",
   "mimetype": "text/x-python",
   "name": "python",
   "nbconvert_exporter": "python",
   "pygments_lexer": "ipython3",
   "version": "3.9.12"
  }
 },
 "nbformat": 4,
 "nbformat_minor": 5
}
